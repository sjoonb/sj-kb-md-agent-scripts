{
 "cells": [
  {
   "cell_type": "code",
   "execution_count": 1,
   "metadata": {},
   "outputs": [
    {
     "name": "stdout",
     "output_type": "stream",
     "text": [
      "File: ../data/금융분야 마이데이터 표준 API 규격_6_업권별 정보제공 API 명세.pdf, Token count: 37866\n",
      "File: ../data/금융분야 마이데이터 표준 API 규격_5_인증 API 명세.pdf, Token count: 1594\n",
      "File: ../data/마이데이터 기술 가이드라인_5_마이데이터 보안.pdf, Token count: 5360\n",
      "File: ../data/금융분야 마이데이터 표준 API 규격_2_표준 API 기본규격.pdf, Token count: 4085\n",
      "File: ../data/금융분야 마이데이터 표준 API 규격_7_지원 API 명세.pdf, Token count: 4802\n",
      "File: ../data/금융분야 마이데이터 표준 API 규격_1_개요.pdf, Token count: 681\n",
      "File: ../data/마이데이터 기술 가이드라인_4_마이데이터 본인인증.pdf, Token count: 2254\n",
      "File: ../data/마이데이터 기술 가이드라인_7_참고.pdf, Token count: 1513\n",
      "File: ../data/마이데이터 기술 가이드라인_2_개인신용정보 전송 개요.pdf, Token count: 3584\n",
      "File: ../data/금융분야 마이데이터 표준 API 규격_4_표준 API 목록.pdf, Token count: 1190\n",
      "File: ../data/금융분야 마이데이터 표준 API 규격_첨부.pdf, Token count: 4528\n",
      "File: ../data/마이데이터 기술 가이드라인_3_마이데이터서비스.pdf, Token count: 4353\n",
      "File: ../data/금융분야 마이데이터 표준 API 규격_3_마이데이터 참여자별 표준 API 처리 절차.pdf, Token count: 6350\n",
      "File: ../data/마이데이터 기술 가이드라인_1_개요.pdf, Token count: 786\n",
      "File: ../data/마이데이터 기술 가이드라인_6_Q&A.pdf, Token count: 2446\n"
     ]
    }
   ],
   "source": [
    "import os\n",
    "import PyPDF2\n",
    "import re\n",
    "import matplotlib.pyplot as plt\n",
    "\n",
    "def count_tokens_in_pdf(pdf_path):\n",
    "    with open(pdf_path, 'rb') as file:\n",
    "        reader = PyPDF2.PdfReader(file)\n",
    "        word_count = 0\n",
    "        for page in reader.pages:\n",
    "            text = page.extract_text()\n",
    "            words = re.findall(r'\\w+', text.lower())\n",
    "            word_count += len(words)\n",
    "    token_count = int(word_count * (100 / 75))  # Convert words to tokens\n",
    "    return token_count\n",
    "\n",
    "def process_directory(directory):\n",
    "    token_counts = {}\n",
    "    for root, dirs, files in os.walk(directory):\n",
    "        for file in files:\n",
    "            if file.lower().endswith('.pdf'):\n",
    "                pdf_path = os.path.join(root, file)\n",
    "                token_count = count_tokens_in_pdf(pdf_path)\n",
    "                token_counts[file] = token_count\n",
    "                print(f\"File: {pdf_path}, Token count: {token_count}\")\n",
    "    return token_counts\n",
    "\n",
    "directory_path = '../data'\n",
    "token_counts = process_directory(directory_path)\n",
    "\n",
    "# Calculate total tokens\n",
    "total_tokens = sum(token_counts.values())"
   ]
  },
  {
   "cell_type": "code",
   "execution_count": null,
   "metadata": {},
   "outputs": [],
   "source": [
    "import matplotlib.pyplot as plt\n",
    "\n",
    "plt.rc('font', family= 'AppleGothic')\n",
    "plt.rcParams['axes.unicode_minus'] =False\n",
    "\n",
    "# Visualize the results\n",
    "plt.figure(figsize=(12, 6))\n",
    "plt.bar(token_counts.keys(), token_counts.values())\n",
    "plt.title('Token Count per PDF File')\n",
    "plt.xlabel('PDF Files')\n",
    "plt.ylabel('Token Count')\n",
    "plt.xticks(rotation=45, ha='right')\n",
    "plt.tight_layout()\n",
    "plt.show()\n",
    "\n",
    "# Display exact token counts\n",
    "for file, count in token_counts.items():\n",
    "    print(f\"{file}: {count} tokens\")\n"
   ]
  },
  {
   "cell_type": "code",
   "execution_count": null,
   "metadata": {},
   "outputs": [],
   "source": []
  }
 ],
 "metadata": {
  "kernelspec": {
   "display_name": "Python 3 (ipykernel)",
   "language": "python",
   "name": "python3"
  },
  "language_info": {
   "codemirror_mode": {
    "name": "ipython",
    "version": 3
   },
   "file_extension": ".py",
   "mimetype": "text/x-python",
   "name": "python",
   "nbconvert_exporter": "python",
   "pygments_lexer": "ipython3",
   "version": "3.11.4"
  }
 },
 "nbformat": 4,
 "nbformat_minor": 2
}
