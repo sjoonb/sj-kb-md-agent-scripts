{
 "cells": [
  {
   "cell_type": "code",
   "execution_count": 2,
   "metadata": {},
   "outputs": [],
   "source": [
    "import getpass\n",
    "\n",
    "# open_ai_api_key = getpass.getpass(\"Enter your OpenAI API key: \")\n",
    "llamaparse_api_key = getpass.getpass(\"Enter your LlamaParse API key: \")"
   ]
  },
  {
   "cell_type": "code",
   "execution_count": 3,
   "metadata": {},
   "outputs": [],
   "source": [
    "import nest_asyncio\n",
    "\n",
    "nest_asyncio.apply()"
   ]
  },
  {
   "cell_type": "code",
   "execution_count": 6,
   "metadata": {},
   "outputs": [
    {
     "name": "stdout",
     "output_type": "stream",
     "text": [
      "Started parsing the file under job_id a6675967-57b4-49c1-8754-54a57fcc9200\n",
      ".Converted all pages of 금융분야 마이데이터 표준 API 규격_첨부.pdf to Markdown using llama_parse\n"
     ]
    }
   ],
   "source": [
    "import os\n",
    "from llama_parse import LlamaParse\n",
    "from llama_index.core import SimpleDirectoryReader\n",
    "\n",
    "def convert_pdf_to_markdown(pdf_directory, md_directory, llamaparse_api_key):\n",
    "    if not os.path.exists(md_directory):\n",
    "        os.makedirs(md_directory)\n",
    "\n",
    "    parser = LlamaParse(\n",
    "        api_key=llamaparse_api_key,\n",
    "        result_type=\"markdown\"\n",
    "    )\n",
    "\n",
    "    file_extractor = {\".pdf\": parser}\n",
    "\n",
    "    for filename in os.listdir(pdf_directory):\n",
    "        if filename.endswith('.pdf'):\n",
    "            pdf_path = os.path.join(pdf_directory, filename)\n",
    "            md_path = os.path.join(md_directory, filename[:-4] + '.md')\n",
    "            \n",
    "            try:\n",
    "                # Use SimpleDirectoryReader to parse the file\n",
    "                documents = SimpleDirectoryReader(\n",
    "                    input_files=[pdf_path], \n",
    "                    file_extractor=file_extractor\n",
    "                ).load_data()\n",
    "                \n",
    "                # Combine all document texts\n",
    "                full_markdown = \"\"\n",
    "                for doc in documents:\n",
    "                    full_markdown += doc.text + \"\\n\\n\"\n",
    "                \n",
    "                # Write the combined Markdown content to a .md file\n",
    "                with open(md_path, 'w', encoding='utf-8') as md_file:\n",
    "                    md_file.write(full_markdown)\n",
    "                \n",
    "                print(f\"Converted all pages of {filename} to Markdown using llama_parse\")\n",
    "            except Exception as e:\n",
    "                print(f\"Failed to convert {filename}: {str(e)}\")\n",
    "\n",
    "# Set your directories and API key\n",
    "pdf_directory = \"./source\"\n",
    "md_directory = \"./target\"\n",
    "\n",
    "# Run the conversion\n",
    "convert_pdf_to_markdown(pdf_directory, md_directory, llamaparse_api_key)"
   ]
  },
  {
   "cell_type": "code",
   "execution_count": null,
   "metadata": {},
   "outputs": [],
   "source": []
  }
 ],
 "metadata": {
  "kernelspec": {
   "display_name": "env",
   "language": "python",
   "name": "python3"
  },
  "language_info": {
   "codemirror_mode": {
    "name": "ipython",
    "version": 3
   },
   "file_extension": ".py",
   "mimetype": "text/x-python",
   "name": "python",
   "nbconvert_exporter": "python",
   "pygments_lexer": "ipython3",
   "version": "3.11.4"
  }
 },
 "nbformat": 4,
 "nbformat_minor": 2
}
